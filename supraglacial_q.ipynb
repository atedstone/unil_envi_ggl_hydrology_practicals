{
 "cells": [
  {
   "cell_type": "markdown",
   "id": "babaf119-6d91-461b-a7c2-be659da030d1",
   "metadata": {},
   "source": [
    "<a href=\"https://colab.research.google.com/github/atedstone/unil_envi_ggl_hydrology_practicals/blob/main/supraglacial_q.ipynb\" target=\"_parent\"><img src=\"https://colab.research.google.com/assets/colab-badge.svg\" alt=\"Open In Colab\"/></a>"
   ]
  },
  {
   "cell_type": "markdown",
   "id": "cfa1571c-1fb3-4832-9971-5991a74541aa",
   "metadata": {},
   "source": [
    "# Practical: Interpreting supraglacial melt and discharge"
   ]
  },
  {
   "cell_type": "code",
   "execution_count": null,
   "id": "72036abc-c917-477a-a097-c8eb8801156f",
   "metadata": {},
   "outputs": [],
   "source": [
    "# Install ipympl so that we can use interactive plots\n",
    "!pip install ipympl\n",
    "# And activate in Colab\n",
    "from google.colab import output\n",
    "output.enable_custom_widget_manager()"
   ]
  },
  {
   "cell_type": "markdown",
   "id": "d73aaaa3-770f-4460-b361-537f7eac8d93",
   "metadata": {},
   "source": [
    "**Important!** If this is the first time you are running the Notebook, restart your session now using the menu 'Runtime... Restart session'. You don't need to run the above cell again afterwards, you can continue with the rest of the Notebook."
   ]
  },
  {
   "cell_type": "code",
   "execution_count": null,
   "id": "c696961e-3825-4d5c-9506-0de9b2ae343c",
   "metadata": {},
   "outputs": [],
   "source": [
    "import requests\n",
    "import os"
   ]
  },
  {
   "cell_type": "code",
   "execution_count": null,
   "id": "cd816a2c-88b1-456a-bce6-7db6c19d3a6b",
   "metadata": {},
   "outputs": [],
   "source": [
    "import pandas as pd\n",
    "import matplotlib.pyplot as plt\n",
    "%matplotlib widget\n",
    "import numpy as np"
   ]
  },
  {
   "cell_type": "markdown",
   "id": "74cffa4e-71ca-448c-894c-b392d58591c3",
   "metadata": {},
   "source": [
    "## Download the data from Pangaea"
   ]
  },
  {
   "cell_type": "code",
   "execution_count": null,
   "id": "95b83d01-e641-4e71-883b-ceb1ae8e5af0",
   "metadata": {},
   "outputs": [],
   "source": [
    "files = {'Moulin_L41A_ice_ablation.tab': 'https://doi.pangaea.de/10.1594/PANGAEA.926842?format=textfile',\n",
    "         'Moulin_L41A_Q.tab': 'https://doi.pangaea.de/10.1594/PANGAEA.926844?format=textfile'\n",
    "        }\n",
    "for f in files:\n",
    "    if os.path.exists(f):\n",
    "        print('File already downloaded.')\n",
    "    else:\n",
    "        print('Downloading...')\n",
    "        response = requests.get(files[f])\n",
    "        open(f, 'wb').write(response.content)"
   ]
  },
  {
   "cell_type": "markdown",
   "id": "70721992-c5c4-4556-9b66-5053f939d077",
   "metadata": {},
   "source": [
    "## Open the datasets using Pandas"
   ]
  },
  {
   "cell_type": "code",
   "execution_count": null,
   "id": "d8fb1ca4-ebf3-4970-a808-3d6f7795fe64",
   "metadata": {},
   "outputs": [],
   "source": [
    "ablation = pd.read_csv('Moulin_L41A_ice_ablation.tab', sep=r'\\t', skiprows=19, parse_dates=True, index_col=0, engine='python')"
   ]
  },
  {
   "cell_type": "code",
   "execution_count": null,
   "id": "40750fe4-6577-4a37-a220-bf6baef98dba",
   "metadata": {},
   "outputs": [],
   "source": [
    "discharge = pd.read_csv('Moulin_L41A_Q.tab', sep=r'\\t', skiprows=20, parse_dates=True, index_col=0, engine='python')"
   ]
  },
  {
   "cell_type": "markdown",
   "id": "08b6616c-e3f3-45bc-b2d9-a76354de0c27",
   "metadata": {},
   "source": [
    "## Initial look at dataset structure"
   ]
  },
  {
   "cell_type": "code",
   "execution_count": null,
   "id": "17979fc4-2721-49a2-a2cb-640c0ca1a36f",
   "metadata": {},
   "outputs": [],
   "source": [
    "# In Jupyter Notebook, entering the name of a Pandas DataFrame prints its head and foot to screen\n",
    "ablation"
   ]
  },
  {
   "cell_type": "code",
   "execution_count": null,
   "id": "120135da-3b57-42f5-86b1-c103540831e2",
   "metadata": {},
   "outputs": [],
   "source": [
    "# We can also get some basic statistics calculated over the whole DataFrame\n",
    "ablation.describe()"
   ]
  },
  {
   "cell_type": "code",
   "execution_count": null,
   "id": "3113b138-cfb9-46e6-b260-244aae14c0d3",
   "metadata": {},
   "outputs": [],
   "source": [
    "discharge"
   ]
  },
  {
   "cell_type": "markdown",
   "id": "0bd9d44b-f132-492c-8751-37512a000564",
   "metadata": {},
   "source": [
    "Notice that there are three columns of data in the discharge dataset. The columns with 'min' and 'max' in the titles are actually the - and + error bounds corresponding to the 95% confidence intervals. They are *not* the absolute min and max values. See the plotting code below for an example of how to use these columns."
   ]
  },
  {
   "cell_type": "markdown",
   "id": "fd8f5f2e-58d3-48db-b1cd-97c31729d7d9",
   "metadata": {},
   "source": [
    "## Plot the data"
   ]
  },
  {
   "cell_type": "code",
   "execution_count": null,
   "id": "1bb7c023-e358-4bdc-b54a-724c87a51624",
   "metadata": {},
   "outputs": [],
   "source": [
    "# Add the ablation data above, i.e. do a subplots plot\n",
    "plt.figure()\n",
    "ax_ablat = plt.subplot(211)\n",
    "ax_disch = plt.subplot(212, sharex=ax_ablat)\n",
    "\n",
    "ax_ablat.errorbar(ablation.index+pd.Timedelta(hours=12), ablation['Ablation [mm]'], yerr=ablation['Ablation [±]'], \n",
    "                  drawstyle='steps-mid', elinewidth=0.7, ecolor='gray')\n",
    "ax_ablat.grid()\n",
    "ax_ablat.set_ylabel('Ablation (mm)')\n",
    "\n",
    "# Discharge at the confidence bounds\n",
    "lower_q = discharge['Q hour mean [m**3/s]'] + discharge['Q hour max [m**3/s]']\n",
    "upper_q = discharge['Q hour mean [m**3/s]'] - discharge['Q hour min [m**3/s]']\n",
    "\n",
    "# Plot as a filled area\n",
    "ax_disch.fill_between(lower_q.index, lower_q, upper_q, alpha=0.5)\n",
    "discharge['Q hour mean [m**3/s]'].plot(ax=ax_disch)\n",
    "ax_disch.grid()\n",
    "ax_disch.set_ylabel(r'Q ($m^3s^{-1}$)')\n",
    "\n",
    "# Plot vertical lines\n",
    "#ax_disch.axvline('2012-07-08', color='red')\n",
    "\n",
    "# Or plot shaded areas\n",
    "#ax_disch.axvspan('2012-07-09', '2012-07-11', alpha=0.3, color='red')"
   ]
  },
  {
   "cell_type": "markdown",
   "id": "3d9f04f5-77bb-45fa-810e-b011f405c738",
   "metadata": {},
   "source": [
    "## Questions / Exercises"
   ]
  },
  {
   "cell_type": "markdown",
   "id": "33cea84b-d195-42ab-a8fb-0544ddbf5505",
   "metadata": {},
   "source": [
    "### Based only on what you see in these data, do you think that you are looking at snow melt or ice melt?"
   ]
  },
  {
   "cell_type": "markdown",
   "id": "66c01b5f-4306-4423-9fda-0a5ce585a916",
   "metadata": {},
   "source": []
  },
  {
   "cell_type": "markdown",
   "id": "882ecad0-801c-4938-8c5e-ba74f231ee28",
   "metadata": {},
   "source": [
    "### How much water flows into the moulin per day, expressed as Olympic swimming pools?"
   ]
  },
  {
   "cell_type": "code",
   "execution_count": null,
   "id": "bd615535-71f4-4658-a804-851c09b9169e",
   "metadata": {},
   "outputs": [],
   "source": [
    "# Resample the discharge data to daily sums, matching sampling of ablation data\n",
    "# Note the min_count is set to the number of hours in a day, so that we only\n",
    "# look at days with full temporal data\n",
    "# We multiply by 60secs * 60 mins to convert m3s-1 into m3day-1.\n",
    "q_daily = discharge['Q hour mean [m**3/s]'].resample('1D').sum(min_count=24) * 60 * 60"
   ]
  },
  {
   "cell_type": "code",
   "execution_count": null,
   "id": "b31caf20-fa6c-4123-b32d-ea0574f26fc0",
   "metadata": {},
   "outputs": [],
   "source": [
    "vol_pool_m3 = # some value, go find it\n",
    "# now calculate the mean daily discharge and divide it by this volume."
   ]
  },
  {
   "cell_type": "markdown",
   "id": "baa029c0-7077-4c19-a9d6-b7bc2b85bbac",
   "metadata": {},
   "source": [
    "### Is there a significant correlation between daily ablation and daily discharge?\n",
    "\n",
    "*To answer this question you will find the code below helpful.*"
   ]
  },
  {
   "cell_type": "code",
   "execution_count": null,
   "id": "f05e1a42-4755-4520-b770-74a2da058624",
   "metadata": {},
   "outputs": [],
   "source": [
    "import statsmodels.api as sm\n",
    "# Do an 'Ordinary Least Squares' regression\n",
    "# See https://www.statsmodels.org/dev/generated/statsmodels.regression.linear_model.OLS.html for more information\n",
    "\n",
    "# Cut ablation data to same time period as discharge (discharge is shorter)\n",
    "X = ablation.loc[q_daily.index[0]:q_daily.index[-1]]['Ablation [mm]']\n",
    "\n",
    "# Get the discharge mean series\n",
    "Y = q_daily\n",
    "\n",
    "# Some days are missing data; we 'drop' (remove) those days.\n",
    "model = sm.OLS(Y, sm.add_constant(X), missing='drop')\n",
    "\n",
    "fit = model.fit()\n",
    "fit.summary()"
   ]
  },
  {
   "cell_type": "markdown",
   "id": "06fbb7b2-b804-4bad-bc70-2d9654ce2712",
   "metadata": {},
   "source": [
    "Put your answer to this question below."
   ]
  },
  {
   "cell_type": "code",
   "execution_count": null,
   "id": "d793df69-d871-46f0-aac1-cc32a4380f79",
   "metadata": {},
   "outputs": [],
   "source": []
  },
  {
   "cell_type": "markdown",
   "id": "f83e97e4-8c3f-46bb-9331-64e4e9e0c248",
   "metadata": {},
   "source": [
    "### Is this value what you expected, and why?"
   ]
  },
  {
   "cell_type": "code",
   "execution_count": null,
   "id": "4359e620-591a-4359-bcad-b7742d9bbd4a",
   "metadata": {},
   "outputs": [],
   "source": []
  },
  {
   "cell_type": "markdown",
   "id": "c0457fb0-e64c-4d60-94ab-ef24b5007926",
   "metadata": {},
   "source": [
    "### When is peak daily discharge?"
   ]
  },
  {
   "cell_type": "code",
   "execution_count": null,
   "id": "e820fb02-b2d1-4162-8dcd-6bad2310d6a2",
   "metadata": {},
   "outputs": [],
   "source": []
  },
  {
   "cell_type": "markdown",
   "id": "f31102fc-4f76-467e-92fd-bb64ec13cecc",
   "metadata": {},
   "source": [
    "### When is base (minimum) daily discharge?"
   ]
  },
  {
   "cell_type": "code",
   "execution_count": null,
   "id": "ba943c05-e807-4942-b893-50709e5bf6c8",
   "metadata": {},
   "outputs": [],
   "source": []
  }
 ],
 "metadata": {
  "kernelspec": {
   "display_name": "Python 3 (ipykernel)",
   "language": "python",
   "name": "python3"
  },
  "language_info": {
   "codemirror_mode": {
    "name": "ipython",
    "version": 3
   },
   "file_extension": ".py",
   "mimetype": "text/x-python",
   "name": "python",
   "nbconvert_exporter": "python",
   "pygments_lexer": "ipython3",
   "version": "3.12.10"
  }
 },
 "nbformat": 4,
 "nbformat_minor": 5
}
