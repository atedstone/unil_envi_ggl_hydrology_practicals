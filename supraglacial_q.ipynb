{
 "cells": [
  {
   "cell_type": "markdown",
   "id": "babaf119-6d91-461b-a7c2-be659da030d1",
   "metadata": {},
   "source": [
    "<a href=\"https://colab.research.google.com/github/atedstone/unil_envi_ggl_hydrology_practicals/blob/main/supraglacial_q.ipynb\" target=\"_parent\"><img src=\"https://colab.research.google.com/assets/colab-badge.svg\" alt=\"Open In Colab\"/></a>"
   ]
  },
  {
   "cell_type": "markdown",
   "id": "cfa1571c-1fb3-4832-9971-5991a74541aa",
   "metadata": {},
   "source": [
    "# Practical: Interpreting supraglacial melt and discharge"
   ]
  },
  {
   "cell_type": "code",
   "execution_count": null,
   "id": "de97c0ef-a37e-4c77-9b4e-b9971704ce3b",
   "metadata": {},
   "outputs": [],
   "source": [
    "# Install ipympl so that we can use interactive plots\n",
    "!pip install ipympl"
   ]
  },
  {
   "cell_type": "markdown",
   "id": "d73aaaa3-770f-4460-b361-537f7eac8d93",
   "metadata": {},
   "source": [
    "**Important!** If this is the first time you are running the Notebook, restart your session **now** using the menu 'Runtime... Restart session'. You don't need to run the above cell again afterwards, you can continue with the rest of the Notebook."
   ]
  },
  {
   "cell_type": "code",
   "execution_count": null,
   "id": "255c0cee-e485-4b8a-b329-74b3c0fea0df",
   "metadata": {},
   "outputs": [],
   "source": [
    "# Activate ipympl in Colab\n",
    "from google.colab import output\n",
    "output.enable_custom_widget_manager()"
   ]
  },
  {
   "cell_type": "code",
   "execution_count": null,
   "id": "c696961e-3825-4d5c-9506-0de9b2ae343c",
   "metadata": {},
   "outputs": [],
   "source": [
    "# Packages for data download\n",
    "import requests\n",
    "import os"
   ]
  },
  {
   "cell_type": "code",
   "execution_count": null,
   "id": "cd816a2c-88b1-456a-bce6-7db6c19d3a6b",
   "metadata": {},
   "outputs": [],
   "source": [
    "# Packages for data analysis\n",
    "import pandas as pd\n",
    "import matplotlib.pyplot as plt\n",
    "import numpy as np\n",
    "%matplotlib widget"
   ]
  },
  {
   "cell_type": "markdown",
   "id": "74cffa4e-71ca-448c-894c-b392d58591c3",
   "metadata": {},
   "source": [
    "## Download the data"
   ]
  },
  {
   "cell_type": "code",
   "execution_count": null,
   "id": "95b83d01-e641-4e71-883b-ceb1ae8e5af0",
   "metadata": {},
   "outputs": [],
   "source": [
    "files = {'Moulin_L41A_ice_ablation.tab': 'https://doi.pangaea.de/10.1594/PANGAEA.926842?format=textfile',\n",
    "         'Moulin_L41A_Q.tab': 'https://doi.pangaea.de/10.1594/PANGAEA.926844?format=textfile',\n",
    "         'KAN_M_hour_seb_2012.csv': 'https://unils-my.sharepoint.com/:x:/g/personal/andrew_tedstone_unil_ch/EX_-Q31D461Fq9iKzeswDGwBKm8wQMshDDSODn2pAAviYQ?download=1'\n",
    "}\n",
    "for f in files:\n",
    "    if os.path.exists(f):\n",
    "        print('File already downloaded.')\n",
    "    else:\n",
    "        print('Downloading...')\n",
    "        response = requests.get(files[f])\n",
    "        open(f, 'wb').write(response.content)\n",
    "print('Done.')"
   ]
  },
  {
   "cell_type": "markdown",
   "id": "70721992-c5c4-4556-9b66-5053f939d077",
   "metadata": {},
   "source": [
    "## Open the datasets using Pandas"
   ]
  },
  {
   "cell_type": "code",
   "execution_count": null,
   "id": "d8fb1ca4-ebf3-4970-a808-3d6f7795fe64",
   "metadata": {},
   "outputs": [],
   "source": [
    "ablation = pd.read_csv('Moulin_L41A_ice_ablation.tab', sep=r'\\t', skiprows=19, parse_dates=True, index_col=0, engine='python')"
   ]
  },
  {
   "cell_type": "code",
   "execution_count": null,
   "id": "40750fe4-6577-4a37-a220-bf6baef98dba",
   "metadata": {},
   "outputs": [],
   "source": [
    "discharge = pd.read_csv('Moulin_L41A_Q.tab', sep=r'\\t', skiprows=20, parse_dates=True, index_col=0, engine='python')"
   ]
  },
  {
   "cell_type": "code",
   "execution_count": null,
   "id": "56e91bfc-c640-4d60-9e1b-41fad8387383",
   "metadata": {},
   "outputs": [],
   "source": [
    "seb = pd.read_csv('KAN_M_hour_seb_2012.csv', parse_dates=True, index_col='time')"
   ]
  },
  {
   "cell_type": "markdown",
   "id": "08b6616c-e3f3-45bc-b2d9-a76354de0c27",
   "metadata": {},
   "source": [
    "## Initial look at dataset structure"
   ]
  },
  {
   "cell_type": "code",
   "execution_count": null,
   "id": "17979fc4-2721-49a2-a2cb-640c0ca1a36f",
   "metadata": {},
   "outputs": [],
   "source": [
    "# In Jupyter Notebook, entering the name of a Pandas DataFrame prints its head and foot to screen\n",
    "ablation"
   ]
  },
  {
   "cell_type": "code",
   "execution_count": null,
   "id": "120135da-3b57-42f5-86b1-c103540831e2",
   "metadata": {},
   "outputs": [],
   "source": [
    "# We can also get some basic statistics calculated over the whole DataFrame\n",
    "ablation.describe()"
   ]
  },
  {
   "cell_type": "code",
   "execution_count": null,
   "id": "3113b138-cfb9-46e6-b260-244aae14c0d3",
   "metadata": {},
   "outputs": [],
   "source": [
    "discharge"
   ]
  },
  {
   "cell_type": "markdown",
   "id": "0bd9d44b-f132-492c-8751-37512a000564",
   "metadata": {},
   "source": [
    "Notice that there are three columns of data in the discharge dataset. The columns with 'min' and 'max' in the titles are actually the - and + error bounds corresponding to the 95% confidence intervals. They are *not* the absolute min and max values. See the plotting code below for an example of how to use these columns."
   ]
  },
  {
   "cell_type": "code",
   "execution_count": null,
   "id": "c3813840-2543-4a25-a805-1c9a27a2513b",
   "metadata": {},
   "outputs": [],
   "source": [
    "seb"
   ]
  },
  {
   "cell_type": "markdown",
   "id": "b77051cd-d38b-416d-a670-779dcfc70653",
   "metadata": {},
   "source": [
    "Here we have three columns of measurements acquired by a nearby automatic weather station, the PROMICE KAN_M site. The columns are as follows:\n",
    "\n",
    "- `swnet` : Net shortwave radiation (i.e., $SW_{down} - SW_{up}$)\n",
    "- `dlhf_u` : Latent heat flux (+ve = energy supply to surface)\n",
    "- `dshf_u` : Sensible heat flux (+ve = energy supply to surface)\n",
    "\n",
    "All units are $W m^{-2}$."
   ]
  },
  {
   "cell_type": "markdown",
   "id": "fd8f5f2e-58d3-48db-b1cd-97c31729d7d9",
   "metadata": {},
   "source": [
    "## Plot the data"
   ]
  },
  {
   "cell_type": "code",
   "execution_count": null,
   "id": "1bb7c023-e358-4bdc-b54a-724c87a51624",
   "metadata": {},
   "outputs": [],
   "source": [
    "# Set up the figure and subplots\n",
    "plt.figure(figsize=(7,7))\n",
    "ax_ablat = plt.subplot(411)\n",
    "ax_seb = plt.subplot(412, sharex=ax_ablat)\n",
    "ax_alb = plt.subplot(413, sharex=ax_ablat)\n",
    "ax_disch = plt.subplot(414, sharex=ax_ablat)\n",
    "\n",
    "# Ablation data\n",
    "ax_ablat.errorbar(ablation.index+pd.Timedelta(hours=12), ablation['Ablation [mm]'], yerr=ablation['Ablation [±]'], \n",
    "                  drawstyle='steps-mid', elinewidth=0.7, ecolor='gray')\n",
    "ax_ablat.grid()\n",
    "ax_ablat.set_ylabel('Ablation (mm)')\n",
    "\n",
    "# Surface energy balance data\n",
    "ax_seb.plot(seb.index, seb.dlhf_u, label='Latent')\n",
    "ax_seb.plot(seb.index, seb.dshf_u, label='Sensible')\n",
    "ax_seb.plot(seb.index, seb.swnet, label='SWnet')\n",
    "ax_seb.grid()\n",
    "ax_seb.set_ylabel('W m-2')\n",
    "\n",
    "# Albedo\n",
    "# First remove invalid values, which occur during night times\n",
    "seb['alb'] = seb['alb'][(seb['alb'] < 1) & (seb['alb'] > 0)]\n",
    "ax_alb.plot(seb.index, seb.alb, label='Albedo', color='lightgrey')\n",
    "ax_alb.plot(seb.index, seb.alb.rolling('24h').mean(), label='Albedo smoothed 24h', linewidth=2)\n",
    "ax_alb.set_ylim(0, 1)\n",
    "ax_alb.grid()\n",
    "ax_alb.set_ylabel('Albedo (0-1)')\n",
    "\n",
    "# Discharge at the confidence bounds\n",
    "lower_q = discharge['Q hour mean [m**3/s]'] + discharge['Q hour max [m**3/s]']\n",
    "upper_q = discharge['Q hour mean [m**3/s]'] - discharge['Q hour min [m**3/s]']\n",
    "\n",
    "# Plot as a filled area\n",
    "ax_disch.fill_between(lower_q.index, lower_q, upper_q, alpha=0.5)\n",
    "discharge['Q hour mean [m**3/s]'].plot(ax=ax_disch)\n",
    "ax_disch.grid()\n",
    "ax_disch.set_ylabel(r'Q ($m^3s^{-1}$)')\n",
    "\n",
    "# Plot vertical lines\n",
    "#ax_disch.axvline('2012-07-08', color='red')\n",
    "\n",
    "# Or plot shaded areas\n",
    "#ax_disch.axvspan('2012-07-09', '2012-07-11', alpha=0.3, color='red')"
   ]
  },
  {
   "cell_type": "markdown",
   "id": "3d9f04f5-77bb-45fa-810e-b011f405c738",
   "metadata": {},
   "source": [
    "## Questions / Exercises"
   ]
  },
  {
   "cell_type": "markdown",
   "id": "33cea84b-d195-42ab-a8fb-0544ddbf5505",
   "metadata": {},
   "source": [
    "### Based only on what you see in these data, do you think that you are looking at snow melt or ice melt?"
   ]
  },
  {
   "cell_type": "markdown",
   "id": "66c01b5f-4306-4423-9fda-0a5ce585a916",
   "metadata": {},
   "source": []
  },
  {
   "cell_type": "markdown",
   "id": "882ecad0-801c-4938-8c5e-ba74f231ee28",
   "metadata": {},
   "source": [
    "### How much water flows into the moulin per day, expressed as Olympic swimming pools?"
   ]
  },
  {
   "cell_type": "code",
   "execution_count": null,
   "id": "bd615535-71f4-4658-a804-851c09b9169e",
   "metadata": {},
   "outputs": [],
   "source": [
    "# Resample the discharge data to daily sums, matching sampling of ablation data\n",
    "# Note the min_count is set to the number of hours in a day, so that we only\n",
    "# look at days with full temporal data\n",
    "# We multiply by 60secs * 60 mins to convert m3s-1 into m3day-1.\n",
    "q_daily = discharge['Q hour mean [m**3/s]'].resample('1D').sum(min_count=24) * 60 * 60"
   ]
  },
  {
   "cell_type": "code",
   "execution_count": null,
   "id": "b31caf20-fa6c-4123-b32d-ea0574f26fc0",
   "metadata": {},
   "outputs": [],
   "source": [
    "vol_pool_m3 = # some value, go find it.....!\n",
    "# now calculate the mean daily discharge and divide it by this volume."
   ]
  },
  {
   "cell_type": "markdown",
   "id": "baa029c0-7077-4c19-a9d6-b7bc2b85bbac",
   "metadata": {},
   "source": [
    "### Is there a significant correlation between daily ablation and daily discharge?\n",
    "\n",
    "*To answer this question you will find the code below helpful.*"
   ]
  },
  {
   "cell_type": "code",
   "execution_count": null,
   "id": "f05e1a42-4755-4520-b770-74a2da058624",
   "metadata": {},
   "outputs": [],
   "source": [
    "import statsmodels.api as sm\n",
    "# Do an 'Ordinary Least Squares' regression\n",
    "# See https://www.statsmodels.org/dev/generated/statsmodels.regression.linear_model.OLS.html for more information\n",
    "\n",
    "# Cut ablation data to same time period as discharge (discharge is shorter)\n",
    "X = ablation.loc[q_daily.index[0]:q_daily.index[-1]]['Ablation [mm]']\n",
    "\n",
    "# Get the discharge mean series\n",
    "Y = q_daily\n",
    "\n",
    "# Some days are missing data; we 'drop' (remove) those days.\n",
    "model = sm.OLS(Y, sm.add_constant(X), missing='drop')\n",
    "\n",
    "fit = model.fit()\n",
    "fit.summary()"
   ]
  },
  {
   "cell_type": "markdown",
   "id": "06fbb7b2-b804-4bad-bc70-2d9654ce2712",
   "metadata": {},
   "source": [
    "Put your answer to this question below. Remember to consider the significance of the test result."
   ]
  },
  {
   "cell_type": "code",
   "execution_count": null,
   "id": "d793df69-d871-46f0-aac1-cc32a4380f79",
   "metadata": {},
   "outputs": [],
   "source": []
  },
  {
   "cell_type": "markdown",
   "id": "f83e97e4-8c3f-46bb-9331-64e4e9e0c248",
   "metadata": {},
   "source": [
    "### Is this value what you expected, and why?"
   ]
  },
  {
   "cell_type": "code",
   "execution_count": null,
   "id": "4359e620-591a-4359-bcad-b7742d9bbd4a",
   "metadata": {},
   "outputs": [],
   "source": []
  },
  {
   "cell_type": "markdown",
   "id": "c0457fb0-e64c-4d60-94ab-ef24b5007926",
   "metadata": {},
   "source": [
    "### When is peak daily discharge? Why might this be?\n",
    "\n",
    "To answer this question and the next one, there are at least a couple of approaches that you could use:\n",
    "\n",
    "- Manual visual interpretation of diurnal values\n",
    "- Time series resampling -- see the `q_daily` example above, you can supply different functions to the `sum()` operation that we used there."
   ]
  },
  {
   "cell_type": "code",
   "execution_count": null,
   "id": "e820fb02-b2d1-4162-8dcd-6bad2310d6a2",
   "metadata": {},
   "outputs": [],
   "source": []
  },
  {
   "cell_type": "markdown",
   "id": "f31102fc-4f76-467e-92fd-bb64ec13cecc",
   "metadata": {},
   "source": [
    "### When is base (minimum) daily discharge? Why might this be?"
   ]
  },
  {
   "cell_type": "code",
   "execution_count": null,
   "id": "ba943c05-e807-4942-b893-50709e5bf6c8",
   "metadata": {},
   "outputs": [],
   "source": []
  },
  {
   "cell_type": "markdown",
   "id": "b532772f-b91d-4ab2-a4a2-e1d38ed27180",
   "metadata": {},
   "source": [
    "### You are following a range of other courses related to data analysis during your studies. What other technique(s) might you use to extend this analysis?"
   ]
  },
  {
   "cell_type": "code",
   "execution_count": null,
   "id": "4f2b4ce5-13e2-48af-a542-14bd3b4e9f86",
   "metadata": {},
   "outputs": [],
   "source": []
  }
 ],
 "metadata": {
  "kernelspec": {
   "display_name": "Python 3 (ipykernel)",
   "language": "python",
   "name": "python3"
  },
  "language_info": {
   "codemirror_mode": {
    "name": "ipython",
    "version": 3
   },
   "file_extension": ".py",
   "mimetype": "text/x-python",
   "name": "python",
   "nbconvert_exporter": "python",
   "pygments_lexer": "ipython3",
   "version": "3.12.10"
  }
 },
 "nbformat": 4,
 "nbformat_minor": 5
}
