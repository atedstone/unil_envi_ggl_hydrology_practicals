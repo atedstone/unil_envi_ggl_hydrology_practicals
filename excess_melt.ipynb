{
 "cells": [
  {
   "cell_type": "markdown",
   "id": "ce679719-5b07-4d0e-aacb-f38a1200488d",
   "metadata": {},
   "source": [
    "# Practical: Retention of Greenland runoff by refreezing\n",
    "\n",
    "In this practical we will use equations originally presented by Pfeffer et al. (1991) to identify the areas of the Greenland Ice Sheet most likely to undergo runoff. For more recent studies which use this approach, see MacFerrin et al. (2019) and Tedstone & Machguth (2022).\n",
    "\n",
    "### References\n",
    "\n",
    "Pfeffer, W., M. Meier and T. Illangasekare (1991). Retention of Greenland Runoff by Refreezing: Implications for Projected Future Sea Level Change. Journal of Geophysical Research, 96 (C12), 22117-22124.\n",
    "\n",
    "MacFerrin, M., Machguth, H., van As, D., Charalampidis, C., Stevens, C. M., Heilig, A., Vandecrux, B., Langen, P. L., Mottram, R., Fettweis, X., van den Broeke, M. R., Pfeffer, W. T., Moussavi, M. S., and Abdalati, W. (2019) Rapid expansion of Greenland's low-permeability ice slabs. Nature, 573 (7774), 403-407.\n",
    "\n",
    "Tedstone, A. and Machguth, H. (2022). Increasing surface runoff from Greenland's firn areas. Nature Climate Change, 12, 672-676.\n"
   ]
  },
  {
   "cell_type": "code",
   "execution_count": null,
   "id": "8a555ab9-b35c-4d50-82f5-96b79131fd16",
   "metadata": {
    "scrolled": true
   },
   "outputs": [],
   "source": [
    "# Install ipympl so that we can use interactive plots\n",
    "!pip install ipympl\n",
    "# And activate in Colab\n",
    "from google.colab import output\n",
    "output.enable_custom_widget_manager()"
   ]
  },
  {
   "cell_type": "markdown",
   "id": "99d45f4c-c0e3-4606-94c2-e4e4da02de59",
   "metadata": {},
   "source": [
    "**Important!** If this is the first time you are running the Notebook, restart your session now using the menu 'Runtime... Restart session'. You don't need to run the above cell again afterwards, you can continue with the rest of the Notebook."
   ]
  },
  {
   "cell_type": "markdown",
   "id": "f33b8f1a-6223-4120-aaa2-0ea5b7348cd8",
   "metadata": {},
   "source": [
    "### Python imports"
   ]
  },
  {
   "cell_type": "code",
   "execution_count": null,
   "id": "20cbce78-3db4-4f41-abd6-b0b8fd005bc2",
   "metadata": {},
   "outputs": [],
   "source": [
    "# For downloading the practical data from remote link\n",
    "import requests\n",
    "import os"
   ]
  },
  {
   "cell_type": "code",
   "execution_count": null,
   "id": "02739dd2-5df9-47ce-9c93-ae258d09acde",
   "metadata": {},
   "outputs": [],
   "source": [
    "# Libraries for analysis\n",
    "import xarray as xr\n",
    "import matplotlib.pyplot as plt\n",
    "%matplotlib widget"
   ]
  },
  {
   "cell_type": "markdown",
   "id": "3c055479-7180-4ade-8d6c-66de220fe088",
   "metadata": {},
   "source": [
    "### Load the regional climate model data\n",
    "We will use these data as inputs for the calculations."
   ]
  },
  {
   "cell_type": "code",
   "execution_count": null,
   "id": "6b00e943-496f-4638-9af7-5d5524400778",
   "metadata": {},
   "outputs": [],
   "source": [
    "nc_filename = 'MARv3.14.3-10km-ERA5-EMvars-2018-2019.nc'\n",
    "if os.path.exists(nc_filename):\n",
    "    print('File already downloaded.')\n",
    "else:\n",
    "    print('Downloading...')\n",
    "    URL = 'https://unils-my.sharepoint.com/:u:/g/personal/andrew_tedstone_unil_ch/ESoBLfXwchBCmxjczBzlT04BmAoMHJCR1H9tzmuLHW0yww?download=1'\n",
    "    response = requests.get(URL)\n",
    "    open(nc_filename, 'wb').write(response.content)\n",
    "    print('Done.')"
   ]
  },
  {
   "cell_type": "code",
   "execution_count": null,
   "id": "71659447-5e70-408e-b75d-0d366bd0cb3b",
   "metadata": {},
   "outputs": [],
   "source": [
    "data = xr.open_dataset('MARv3.14.3-10km-ERA5-EMvars-2018-2019.nc')"
   ]
  },
  {
   "cell_type": "markdown",
   "id": "f46b31f9-e905-444d-807d-d93ce2637df1",
   "metadata": {},
   "source": [
    "Take a moment to familiarise yourself with the contents of this dataset by executing the cell below."
   ]
  },
  {
   "cell_type": "code",
   "execution_count": null,
   "id": "845d458c-d647-4924-ba20-83a6e9c27b4d",
   "metadata": {},
   "outputs": [],
   "source": [
    "data"
   ]
  },
  {
   "cell_type": "markdown",
   "id": "876a1201-4c5c-45b9-9256-1bfbbfa6cb74",
   "metadata": {},
   "source": [
    "There are some useful things to notice and think about:\n",
    "\n",
    "- We have two `TIME` points; 2018-08-31 and 2019-08-31. Why do we want to use 'end of August' data?\n",
    "- There is a data variable `MSK`, which has values running from 0-100 but does *not* have a `TIME` dimension. Plot it below to understand what this variable contains."
   ]
  },
  {
   "cell_type": "code",
   "execution_count": null,
   "id": "19f33a15-2553-43c5-9f50-7c4035910c7a",
   "metadata": {},
   "outputs": [],
   "source": [
    "data.MSK.plot()"
   ]
  },
  {
   "cell_type": "markdown",
   "id": "d45d9553-6503-4abf-8ee6-1d11d78dff9f",
   "metadata": {},
   "source": [
    "### Accounting for varying snow density across the ice sheet\n",
    "\n",
    "Here we use the snow density parameterization from Langen, et al. (2017, Frontiers in Earth Science) eq. 17:\n",
    "\n",
    "    Freshly-fallen snow has an initial density parameterized through\n",
    "    a linear regression of surface density observations onto surface\n",
    "    elevation, zsrf (m a.s.l.), latitude, ϕ (degrees north), and longitude,\n",
    "    λ (degrees east).\n",
    "\n",
    "In other words, the density of Greenland snow varies according to elevation and location.\n",
    "\n",
    "Parameters `a,b,c,d` below describe this relationship empirically."
   ]
  },
  {
   "cell_type": "code",
   "execution_count": null,
   "id": "bc7c12a0-19f4-4a6c-bbb0-f55b4947211d",
   "metadata": {},
   "outputs": [],
   "source": [
    "a_rho = 328.35\n",
    "b_rho = -0.049376\n",
    "c_rho = 1.0427\n",
    "d_rho = -0.11186\n",
    "\n",
    "# Now make the x/y grid of snow density.\n",
    "rho_snow = (a_rho + b_rho*data.SH + c_rho*data.LAT + d_rho*data.LON) / 1000.0"
   ]
  },
  {
   "cell_type": "markdown",
   "id": "209628e6-e9c9-47b5-a6b8-b79352ce4deb",
   "metadata": {},
   "source": [
    "### Calculate the pore space available for meltwater refreezing"
   ]
  },
  {
   "cell_type": "code",
   "execution_count": null,
   "id": "21868453-b5f0-4dbd-b910-af68ba2f711d",
   "metadata": {},
   "outputs": [],
   "source": [
    "# Firn pore close-off density \n",
    "rho_closeoff = 0.83\n",
    "# Calculate the snow pore space available to be filled by refreezing water until the pores close.\n",
    "Z = (rho_closeoff - rho_snow)/rho_snow"
   ]
  },
  {
   "cell_type": "code",
   "execution_count": null,
   "id": "9b472347-0a45-40f5-917b-b1f0a532aeb4",
   "metadata": {},
   "outputs": [],
   "source": [
    "# In this plot, a value > 1 means that pore space is available for filling.\n",
    "Z.plot()"
   ]
  },
  {
   "cell_type": "markdown",
   "id": "da30a6a9-6cb2-4cdb-96b6-61dadfa17430",
   "metadata": {},
   "source": [
    "### Calculate the cold content of the pore space\n",
    "\n",
    "This is done as a function of the average annual air temperature."
   ]
  },
  {
   "cell_type": "code",
   "execution_count": null,
   "id": "1909ec21-08f1-4797-82e9-5bbdf7adc4a2",
   "metadata": {},
   "outputs": [],
   "source": [
    "# Heat capacity of ice, kJ/(kg *C)\n",
    "c = 2.108 \n",
    "# Latent heat of fusion of ice, kJ/kg\n",
    "L = 333.55 \n",
    "\n",
    "# The t_annual value is used to calculate firn/snow temperatures.\n",
    "# For this calculation, null-out any average temperatures above zero (should be none for the ice sheet).\n",
    "t_annual = data.TT.where(data.TT < 0)\n",
    "\n",
    "# Now calculate the cold content of the pore space available for refreezing surface meltwater.\n",
    "Q = (c/L) * -1.0*t_annual # Expressed in *positive* degrees below zero."
   ]
  },
  {
   "cell_type": "code",
   "execution_count": null,
   "id": "7c6782d2-7c0e-4268-8a9f-3491035447a8",
   "metadata": {},
   "outputs": [],
   "source": [
    "# Let's plot these data. Notice that we supply col='TIME', which says to use the columns of the figure to show the different TIME points.\n",
    "Q.where(data.MSK > 50).plot(col='TIME')"
   ]
  },
  {
   "cell_type": "markdown",
   "id": "cde41d2e-f664-4b33-b3c7-17758852f711",
   "metadata": {},
   "source": [
    "### Calculate the Melt/Accumulation ratio"
   ]
  },
  {
   "cell_type": "code",
   "execution_count": null,
   "id": "29f7240d-165a-4b25-b6c3-16f9e9c75dfe",
   "metadata": {},
   "outputs": [],
   "source": [
    "MC_ratio = (Q + Z) * ((1 + Z)**-1)"
   ]
  },
  {
   "cell_type": "code",
   "execution_count": null,
   "id": "285b1d04-a2ba-4f50-97b5-d82d2875ce53",
   "metadata": {},
   "outputs": [],
   "source": [
    "plt.figure()\n",
    "MC_ratio.where(data.MSK > 50).plot(col='TIME')\n",
    "# This should roughly correspond with the basic necessary condition for runoff that (melt / accumulation >= 0.7)"
   ]
  },
  {
   "cell_type": "markdown",
   "id": "0e7f3e96-b6f3-4cdb-b6ca-038c204f8cce",
   "metadata": {},
   "source": [
    "### Calculate excess melt\n",
    "\n",
    "The units here are mm water equivalent per year, because we are working with data at annual resolution."
   ]
  },
  {
   "cell_type": "code",
   "execution_count": null,
   "id": "3864ebb0-e6d6-45d6-b6d6-6843569d3c8b",
   "metadata": {},
   "outputs": [],
   "source": [
    "# Calculate the melt in excess of that which can be contained in the pores --> this water will run off.\n",
    "excess_melt = ( \n",
    "    ((data.ME+data.RF)/data.SF) - MC_ratio\n",
    "    ) * data.SF"
   ]
  },
  {
   "cell_type": "code",
   "execution_count": null,
   "id": "7e42a437-df21-4664-b336-f01d1d2ed3b0",
   "metadata": {},
   "outputs": [],
   "source": [
    "plt.figure()\n",
    "excess_melt.where(data.MSK > 50).plot(col='TIME', vmin=-1000, vmax=1000, cmap='RdBu_r')"
   ]
  },
  {
   "cell_type": "markdown",
   "id": "d0e1879a-ef04-4e1e-959c-f709e333e332",
   "metadata": {},
   "source": [
    "### Some questions to consider\n",
    "\n",
    "1. According to these calculations, how big is the ice sheet's annual runoff area?\n",
    "2. What is more important in explaining the variability that we see between years: accumulation or melt?"
   ]
  },
  {
   "cell_type": "code",
   "execution_count": null,
   "id": "921ad4bb-9827-4cd7-8153-7064d3b9812a",
   "metadata": {},
   "outputs": [],
   "source": []
  }
 ],
 "metadata": {
  "kernelspec": {
   "display_name": "Python 3 (ipykernel)",
   "language": "python",
   "name": "python3"
  },
  "language_info": {
   "codemirror_mode": {
    "name": "ipython",
    "version": 3
   },
   "file_extension": ".py",
   "mimetype": "text/x-python",
   "name": "python",
   "nbconvert_exporter": "python",
   "pygments_lexer": "ipython3",
   "version": "3.12.10"
  }
 },
 "nbformat": 4,
 "nbformat_minor": 5
}
